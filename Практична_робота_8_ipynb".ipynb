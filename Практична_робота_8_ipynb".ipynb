{
  "nbformat": 4,
  "nbformat_minor": 0,
  "metadata": {
    "colab": {
      "provenance": [],
      "include_colab_link": true
    },
    "kernelspec": {
      "name": "python3",
      "display_name": "Python 3"
    },
    "language_info": {
      "name": "python"
    }
  },
  "cells": [
    {
      "cell_type": "markdown",
      "metadata": {
        "id": "view-in-github",
        "colab_type": "text"
      },
      "source": [
        "<a href=\"https://colab.research.google.com/github/yuliiabugrova/practical-work-8/blob/main/%D0%9F%D1%80%D0%B0%D0%BA%D1%82%D0%B8%D1%87%D0%BD%D0%B0_%D1%80%D0%BE%D0%B1%D0%BE%D1%82%D0%B0_8_ipynb%22.ipynb\" target=\"_parent\"><img src=\"https://colab.research.google.com/assets/colab-badge.svg\" alt=\"Open In Colab\"/></a>"
      ]
    },
    {
      "cell_type": "markdown",
      "source": [
        "**Практична робота 8**\n",
        "\n",
        "Тема: Функції Python"
      ],
      "metadata": {
        "id": "ctQwRbMaM76s"
      }
    },
    {
      "cell_type": "markdown",
      "source": [
        "*У кожному завданні:*\n",
        "\n",
        "Виконайте спочатку програму без функції.\n",
        "\n",
        "Потім виділіть частину коду у функцію.\n",
        "\n",
        "Використовуйте параметри та повернення результату, де потрібно."
      ],
      "metadata": {
        "id": "yTfoM2NWQOTy"
      }
    },
    {
      "cell_type": "markdown",
      "source": [
        "**Завдання 1.** Функція з параметром\n",
        "\n",
        "Створіть функцію square(number), яка:\n",
        "\n",
        "повертає квадрат числа,\n",
        "\n",
        "якщо число від’ємне — повертає повідомлення \"Введіть додатнє число!\"."
      ],
      "metadata": {
        "id": "92x_krefNU-p"
      }
    },
    {
      "cell_type": "code",
      "execution_count": 20,
      "metadata": {
        "id": "hSwmNWHZMQuU",
        "colab": {
          "base_uri": "https://localhost:8080/"
        },
        "outputId": "afa0059d-a967-4994-bd27-801d7b52353d"
      },
      "outputs": [
        {
          "output_type": "stream",
          "name": "stdout",
          "text": [
            "Введіть число: 2\n",
            "Квадрат числа: 4\n"
          ]
        }
      ],
      "source": [
        "number = int(input(\"Введіть число: \"))\n",
        "if number >= 0:\n",
        "    print(\"Квадрат числа:\", number * number)\n",
        "else:\n",
        "    print(\"Введіть додатнє число!\")\n"
      ]
    },
    {
      "cell_type": "code",
      "source": [
        "def square(number):\n",
        "    if number >= 0:\n",
        "        return number * number\n",
        "    else:\n",
        "        return \"Введіть додатне число!\"\n",
        "\n",
        "number = int(input(\"Введіть число: \"))\n",
        "result = square(number)\n",
        "print(\"Квадрат числа:\",result)"
      ],
      "metadata": {
        "colab": {
          "base_uri": "https://localhost:8080/"
        },
        "id": "_hy6DIr_iNWi",
        "outputId": "58affa40-b359-44e9-847b-879a8fd37318"
      },
      "execution_count": 16,
      "outputs": [
        {
          "output_type": "stream",
          "name": "stdout",
          "text": [
            "Введіть число: 2\n",
            "Квадрат числа: 4\n"
          ]
        }
      ]
    },
    {
      "cell_type": "markdown",
      "source": [
        "**Завдання 2.** Функція з кількома параметрами\n",
        "\n",
        "Створіть функцію max_of_two(a, b), яка повертає більше з двох чисел."
      ],
      "metadata": {
        "id": "S8NoNBt3NcZK"
      }
    },
    {
      "cell_type": "code",
      "source": [
        "a = int(input(\"Введіть перше число: \"))\n",
        "b = int(input(\"Введіть друге число: \"))\n",
        "if a > b:\n",
        "    print(\"Більше число:\", a)\n",
        "else:\n",
        "    print(\"Більше число:\", b)\n"
      ],
      "metadata": {
        "id": "iseBksmzNpQb",
        "colab": {
          "base_uri": "https://localhost:8080/"
        },
        "outputId": "8380c54f-c1d9-4898-c349-233399f2d1c3"
      },
      "execution_count": 8,
      "outputs": [
        {
          "output_type": "stream",
          "name": "stdout",
          "text": [
            "Введіть перше число: 2\n",
            "Введіть друге число: 3\n",
            "Більше число: 3\n"
          ]
        }
      ]
    },
    {
      "cell_type": "code",
      "source": [
        "def max_of_two(a, b):\n",
        "    if a > b:\n",
        "        return a\n",
        "    else:\n",
        "        return b\n",
        "\n",
        "a = int(input(\"Введіть перше число: \"))\n",
        "b = int(input(\"Введіть друге число: \"))\n",
        "\n",
        "print(\"Більше число:\",max_of_two(a, b))"
      ],
      "metadata": {
        "colab": {
          "base_uri": "https://localhost:8080/"
        },
        "id": "ZIFTRjQfi-GT",
        "outputId": "0672495b-c92c-4d6b-dc56-f16633da8675"
      },
      "execution_count": 19,
      "outputs": [
        {
          "output_type": "stream",
          "name": "stdout",
          "text": [
            "Введіть перше число: 2\n",
            "Введіть друге число: 3\n",
            "Більше число: 3\n"
          ]
        }
      ]
    },
    {
      "cell_type": "markdown",
      "source": [
        "**Завдання 3.** Функція з невідомою кількістю параметрів (*args)\n",
        "\n",
        "Створіть функцію sum_numbers(*numbers), яка знаходить суму чисел."
      ],
      "metadata": {
        "id": "9SsI2lt_NzbR"
      }
    },
    {
      "cell_type": "code",
      "source": [
        "n = int(input(\"Скільки чисел ви хочете ввести? \"))\n",
        "summa = 0\n",
        "for i in range(n):\n",
        "    number = int(input(\"Введіть число: \"))\n",
        "    summa += number\n",
        "\n",
        "print(\"Сума чисел:\", summa)\n"
      ],
      "metadata": {
        "id": "jQ5EGtb-N2kx",
        "colab": {
          "base_uri": "https://localhost:8080/"
        },
        "outputId": "e24117a5-dd9b-41e6-f059-fce24ae5f638"
      },
      "execution_count": 9,
      "outputs": [
        {
          "output_type": "stream",
          "name": "stdout",
          "text": [
            "Скільки чисел ви хочете ввести? 3\n",
            "Введіть число: 1\n",
            "Введіть число: 2\n",
            "Введіть число: 3\n",
            "Сума чисел: 6\n"
          ]
        }
      ]
    },
    {
      "cell_type": "code",
      "source": [
        "def sum_numbers(*numbers):\n",
        "    summa = 0\n",
        "    for n in numbers:\n",
        "        summa += n\n",
        "    return summa\n",
        "\n",
        "n = int(input(\"Скільки чисел ви хочете ввести? \"))\n",
        "numbers = []\n",
        "\n",
        "for i in range(n):\n",
        "    number = int(input(\"Введіть число: \"))\n",
        "    numbers.append(number)\n",
        "result = sum_numbers(*numbers)\n",
        "print(\"Сума чисел:\",result)"
      ],
      "metadata": {
        "colab": {
          "base_uri": "https://localhost:8080/"
        },
        "id": "uObhX8tgoLDa",
        "outputId": "2ffee3b1-9edf-4721-d24b-6c3e2c5d6c5e"
      },
      "execution_count": 23,
      "outputs": [
        {
          "output_type": "stream",
          "name": "stdout",
          "text": [
            "Скільки чисел ви хочете ввести? 3\n",
            "Введіть число: 1\n",
            "Введіть число: 2\n",
            "Введіть число: 3\n",
            "Сума чисел: 6\n"
          ]
        }
      ]
    },
    {
      "cell_type": "markdown",
      "source": [
        "**Завдання 4.** Обчислити довжини п’яти кіл і площі відповідних п’яти кругів, якщо їхні радіуси набувають значень 2, 4, 6, 8, 10."
      ],
      "metadata": {
        "id": "s4SumtlsN5jZ"
      }
    },
    {
      "cell_type": "code",
      "source": [
        "import math\n",
        "\n",
        "def calculate_circle(radius):\n",
        "    length = 2 * math.pi * radius\n",
        "    area = math.pi * radius ** 2\n",
        "    return length, area\n",
        "\n",
        "\n",
        "rad = [2, 4, 6, 8, 10]\n",
        "\n",
        "for r in rad:\n",
        "    length, area = calculate_circle(r)\n",
        "    print(f\"Радіус: {r} | Довжина кола: {length:.2f} | Площа круга: {area:.2f}\")"
      ],
      "metadata": {
        "colab": {
          "base_uri": "https://localhost:8080/"
        },
        "id": "MttRXFizklCQ",
        "outputId": "b3796ce4-3e55-4824-f40b-dcdc44b3e618"
      },
      "execution_count": 15,
      "outputs": [
        {
          "output_type": "stream",
          "name": "stdout",
          "text": [
            "Радіус: 2 | Довжина кола: 12.57 | Площа круга: 12.57\n",
            "Радіус: 4 | Довжина кола: 25.13 | Площа круга: 50.27\n",
            "Радіус: 6 | Довжина кола: 37.70 | Площа круга: 113.10\n",
            "Радіус: 8 | Довжина кола: 50.27 | Площа круга: 201.06\n",
            "Радіус: 10 | Довжина кола: 62.83 | Площа круга: 314.16\n"
          ]
        }
      ]
    },
    {
      "cell_type": "markdown",
      "source": [
        "**Завдання 5.**"
      ],
      "metadata": {
        "id": "NxO4hXvXOlVC"
      }
    },
    {
      "cell_type": "markdown",
      "source": [
        "![{B9B72E95-78B1-43BC-A6A2-ADDFCC7D6724}.png](data:image/png;base64,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)"
      ],
      "metadata": {
        "id": "sta7fR3fb6LS"
      }
    },
    {
      "cell_type": "code",
      "source": [
        "import math\n",
        "\n",
        "def is_valid_triangle(a, b, c):\n",
        "    return a + b > c and a + c > b and b + c > a\n",
        "\n",
        "def median(a, b, c):\n",
        "    return 0.5 * math.sqrt(2 * b**2 + 2 * c**2 - a**2)\n",
        "\n",
        "a = float(input(\"Введіть сторону a: \"))\n",
        "b = float(input(\"Введіть сторону b: \"))\n",
        "c = float(input(\"Введіть сторону c: \"))\n",
        "\n",
        "if is_valid_triangle(a, b, c):\n",
        "    ma = median(a, b, c)\n",
        "    mb = median(b, a, c)\n",
        "    mc = median(c, a, b)\n",
        "    print(f\"Медіана до сторони a: {ma:.2f}\")\n",
        "    print(f\"Медіана до сторони b: {mb:.2f}\")\n",
        "    print(f\"Медіана до сторони c: {mc:.2f}\")\n",
        "    print(\"Трикутник правильний:\", is_valid_triangle(a, b, c))\n",
        "else:\n",
        "    print(\"Трикутник з такими сторонами не існує.\")\n"
      ],
      "metadata": {
        "colab": {
          "base_uri": "https://localhost:8080/"
        },
        "id": "oZv_fD1B0Yv_",
        "outputId": "fe8a319e-aa99-4579-dcc7-bce9229e73cd"
      },
      "execution_count": 30,
      "outputs": [
        {
          "output_type": "stream",
          "name": "stdout",
          "text": [
            "Введіть сторону a: 3\n",
            "Введіть сторону b: 4\n",
            "Введіть сторону c: 5\n",
            "Медіана до сторони a: 4.27\n",
            "Медіана до сторони b: 3.61\n",
            "Медіана до сторони c: 2.50\n",
            "Трикутник правильний: True\n"
          ]
        }
      ]
    }
  ]
}